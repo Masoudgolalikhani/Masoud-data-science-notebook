{
 "cells": [
  {
   "cell_type": "markdown",
   "id": "eff07c7e-e6ce-497e-9b5c-873523fac880",
   "metadata": {},
   "source": [
    "# Data Science Tools and Ecosystem"
   ]
  },
  {
   "cell_type": "markdown",
   "id": "172aeea2-29b8-4a66-9d1f-1003ada49c70",
   "metadata": {},
   "source": [
    "## Author\n",
    "\n",
    "Masoud Golalikhani"
   ]
  },
  {
   "cell_type": "markdown",
   "id": "46c91c91-e065-44c7-bf08-8ac49c3f68c2",
   "metadata": {},
   "source": [
    "In this notebook, Data Science Tools and Ecosystem are summarized."
   ]
  },
  {
   "attachments": {},
   "cell_type": "markdown",
   "id": "0a94cb8a-751b-41fa-b4b4-b6f3bf3907c8",
   "metadata": {},
   "source": [
    "**Objectives:**\n",
    "- List popular languages for Data Science.\n",
    "- List commonly used libraries for Data Science.\n",
    "- Identify the users and uses of the R language.\n",
    "- List the tasks that a data scientist needs to perform to build a model.\n",
    "- Describe how to work with kernels."
   ]
  },
  {
   "attachments": {},
   "cell_type": "markdown",
   "id": "835d5e47-dc47-46ca-b9f7-3fa6f2b105e3",
   "metadata": {},
   "source": [
    "Some of the popular languages that Data Scientists use are:\n",
    "1. Python\n",
    "2. R\n",
    "3. SQL"
   ]
  },
  {
   "attachments": {},
   "cell_type": "markdown",
   "id": "72150097-fe67-4f6a-9890-68ff36ce3613",
   "metadata": {},
   "source": [
    "Some of the commonly used libraries used by Data Scientists include:\n",
    "1. Pandas\n",
    "2. NumPy\n",
    "3. SciPy"
   ]
  },
  {
   "attachments": {},
   "cell_type": "markdown",
   "id": "0b72f61f-1f67-46d1-81cd-df28b376d115",
   "metadata": {},
   "source": [
    "| Data Science Tools |\n",
    "|--------------------|\n",
    "| Apache Zeppelin    |\n",
    "| RStudio            |\n",
    "| Spyder             |"
   ]
  },
  {
   "cell_type": "markdown",
   "id": "878dcf98-f038-4617-8519-01487fef84aa",
   "metadata": {},
   "source": [
    "### Below are a few examples of evaluating arithmetic expressions in Python"
   ]
  },
  {
   "cell_type": "code",
   "execution_count": 13,
   "id": "3b59a769-7579-4fc9-ad61-7a06a612abcf",
   "metadata": {},
   "outputs": [
    {
     "data": {
      "text/plain": [
       "17"
      ]
     },
     "execution_count": 13,
     "metadata": {},
     "output_type": "execute_result"
    }
   ],
   "source": [
    "#This a simple arithmetic expression to mutiply then add integers\n",
    "(3*4)+5"
   ]
  },
  {
   "cell_type": "code",
   "execution_count": 15,
   "id": "92fc1737-94f0-431f-a644-af6a6a6e73db",
   "metadata": {},
   "outputs": [
    {
     "data": {
      "text/plain": [
       "3.3333333333333335"
      ]
     },
     "execution_count": 15,
     "metadata": {},
     "output_type": "execute_result"
    }
   ],
   "source": [
    "#This will convert 200 minutes to hours by diving by 60\n",
    "200/60"
   ]
  }
 ],
 "metadata": {
  "kernelspec": {
   "display_name": "Python 3 (ipykernel)",
   "language": "python",
   "name": "python3"
  },
  "language_info": {
   "codemirror_mode": {
    "name": "ipython",
    "version": 3
   },
   "file_extension": ".py",
   "mimetype": "text/x-python",
   "name": "python",
   "nbconvert_exporter": "python",
   "pygments_lexer": "ipython3",
   "version": "3.12.4"
  }
 },
 "nbformat": 4,
 "nbformat_minor": 5
}
